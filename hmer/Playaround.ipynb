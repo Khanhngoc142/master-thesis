{
 "cells": [
  {
   "cell_type": "code",
   "execution_count": 23,
   "metadata": {},
   "outputs": [],
   "source": [
    "from extractor.crohme_parser.inkml import *\n",
    "import numpy as np\n",
    "import matplotlib.patches as patches"
   ]
  },
  {
   "cell_type": "code",
   "execution_count": 3,
   "metadata": {},
   "outputs": [],
   "source": [
    "ink = Ink(\"/home/lap13631/PycharmProjects/master-thesis/hmer/data/CROHME_full_v2/CROHME2013_data/TrainINKML/expressmatch/65_alfonso.inkml\")"
   ]
  },
  {
   "cell_type": "code",
   "execution_count": 5,
   "metadata": {},
   "outputs": [
    {
     "data": {
      "text/plain": [
       "<bound method Ink.draw of <extractor.crohme_parser.inkml.Ink object at 0x7f1ce8ca8710>>"
      ]
     },
     "execution_count": 5,
     "metadata": {},
     "output_type": "execute_result"
    }
   ],
   "source": [
    "            for group in self._trace_groups:\n",
    "                for trace in group.traces:\n",
    "                    data = np.array(trace.coords)\n",
    "                    x, y = zip(*data)\n",
    "                    plt.plot(x, y, linewidth=linewidth, c='black')"
   ]
  },
  {
   "cell_type": "code",
   "execution_count": 6,
   "metadata": {},
   "outputs": [],
   "source": [
    "trace_groups = ink.trace_groups"
   ]
  },
  {
   "cell_type": "code",
   "execution_count": 19,
   "metadata": {},
   "outputs": [],
   "source": [
    "bbox = [trace.bbox for trace in trace_groups]"
   ]
  },
  {
   "cell_type": "code",
   "execution_count": 20,
   "metadata": {},
   "outputs": [
    {
     "data": {
      "text/plain": [
       "[[[3950000, 1220000], [4480000, 1590000]],\n",
       " [[4800000, 1320000], [5220000, 1490000]],\n",
       " [[5520000, 1240000], [5890000, 1600000]],\n",
       " [[7280000, 1070000], [7640000, 1530000]],\n",
       " [[6250000, 1270000], [7080000, 1510000]]]"
      ]
     },
     "execution_count": 20,
     "metadata": {},
     "output_type": "execute_result"
    }
   ],
   "source": [
    "bbox"
   ]
  },
  {
   "cell_type": "code",
   "execution_count": 28,
   "metadata": {},
   "outputs": [
    {
     "data": {
      "text/plain": [
       "3950000"
      ]
     },
     "execution_count": 28,
     "metadata": {},
     "output_type": "execute_result"
    }
   ],
   "source": [
    "bbox[0][0][0]"
   ]
  },
  {
   "cell_type": "code",
   "execution_count": null,
   "metadata": {},
   "outputs": [],
   "source": []
  },
  {
   "cell_type": "code",
   "execution_count": 35,
   "metadata": {},
   "outputs": [
    {
     "data": {
      "image/png": "[encoded data removed]",
      "text/plain": [
       "<Figure size 720x360 with 1 Axes>"
      ]
     },
     "metadata": {
      "needs_background": "light"
     },
     "output_type": "display_data"
    }
   ],
   "source": [
    "# plt.figure(figsize=(10,5))\n",
    "fig,ax = plt.subplots(1, figsize=(10,5))\n",
    "for group in trace_groups:\n",
    "    for trace in group.traces:\n",
    "        data = np.array(trace.coords)\n",
    "        x, y = zip(*data)\n",
    "        plt.plot(x, y, linewidth=2, c='black')\n",
    "    bbx = group.bbox\n",
    "    rect = patches.Rectangle((bbx[0]),bbx[1][0]-bbx[0][0],bbx[1][1]-bbx[0][1],linewidth=1,edgecolor='r',facecolor='none')\n",
    "    ax.add_patch(rect)\n",
    "plt.show()\n",
    "# rect = [patches.Rectangle((bbx[0]),bbx[1][0]-bbx[0][0],bbx[1][1]-bbx[0][1],linewidth=1,edgecolor='r',facecolor='none') for bbx in bbox]\n",
    "# plt.savefig('tmp' + '.png', bbox_inches='tight', dpi=100)\n",
    "# plt.gcf().clear()"
   ]
  },
  {
   "cell_type": "code",
   "execution_count": 18,
   "metadata": {},
   "outputs": [
    {
     "data": {
      "text/plain": [
       "[[3980000, 1370000],\n",
       " [3950000, 1360000],\n",
       " [4120000, 1230000],\n",
       " [4140000, 1230000],\n",
       " [4160000, 1240000],\n",
       " [4180000, 1250000],\n",
       " [4190000, 1260000],\n",
       " [4210000, 1270000],\n",
       " [4230000, 1290000],\n",
       " [4240000, 1310000],\n",
       " [4260000, 1330000],\n",
       " [4280000, 1350000],\n",
       " [4290000, 1370000],\n",
       " [4310000, 1400000],\n",
       " [4330000, 1420000],\n",
       " [4340000, 1440000],\n",
       " [4360000, 1470000],\n",
       " [4370000, 1490000],\n",
       " [4390000, 1500000],\n",
       " [4400000, 1520000],\n",
       " [4420000, 1540000],\n",
       " [4430000, 1550000],\n",
       " [4440000, 1560000],\n",
       " [4450000, 1570000],\n",
       " [4450000, 1580000],\n",
       " [4460000, 1580000],\n",
       " [4460000, 1590000],\n",
       " [4460000, 1580000],\n",
       " [4450000, 1560000],\n",
       " [4450000, 1550000]]"
      ]
     },
     "execution_count": 18,
     "metadata": {},
     "output_type": "execute_result"
    }
   ],
   "source": [
    "trace_groups[0].traces[0].coords"
   ]
  },
  {
   "cell_type": "code",
   "execution_count": 63,
   "metadata": {},
   "outputs": [],
   "source": [
    "#phai scale ve size tuong thich roi moi ve duoc\n",
    "def draw_pattern(group, box_size):# ve tung group\n",
    "\n",
    "        pattern_drawn = np.zeros(shape=(box_size, box_size), dtype=np.float32)\n",
    "        for trace in group.traces:\n",
    "            data = np.array(trace.coords)\n",
    "    \n",
    "            ' SINGLE POINT TO DRAW '\n",
    "            if len(data) == 1:\n",
    "                x_coord = data[0][0]\n",
    "                y_coord = data[0][1]\n",
    "                pattern_drawn[y_coord, x_coord] = 0.0\n",
    "\n",
    "            else:\n",
    "                ' TRACE HAS MORE THAN 1 POINT '\n",
    "\n",
    "                'Iterate through list of traces endpoints'\n",
    "                for pt_idx in range(len(data) - 1):\n",
    "\n",
    "                    'Indices of pixels that belong to the line. May be used to directly index into an array'\n",
    "                    # pattern_drawn[line(r0=trace[pt_idx][1], c0=trace[pt_idx][0],\n",
    "                    #                  r1=trace[pt_idx + 1][1], c1=trace[pt_idx + 1][0])] = 0.0\n",
    "                    img = Image.fromarray(pattern_drawn)\n",
    "                    draw = ImageDraw.Draw(img)\n",
    "                    draw.line([(data[pt_idx][0], data[pt_idx][1]), (data[pt_idx + 1][0], data[pt_idx + 1][1])], fill=1, width=3)\n",
    "\n",
    "                    pattern_drawn = np.array(img)\n",
    "\n",
    "        return pattern_drawn"
   ]
  },
  {
   "cell_type": "code",
   "execution_count": 64,
   "metadata": {},
   "outputs": [],
   "source": [
    "tmp_pattern = draw_pattern(trace_groups[0], 300)"
   ]
  },
  {
   "cell_type": "code",
   "execution_count": 58,
   "metadata": {},
   "outputs": [
    {
     "data": {
      "text/plain": [
       "0.0"
      ]
     },
     "execution_count": 58,
     "metadata": {},
     "output_type": "execute_result"
    }
   ],
   "source": [
    "np.sum(tmp_pattern)"
   ]
  },
  {
   "cell_type": "code",
   "execution_count": null,
   "metadata": {},
   "outputs": [],
   "source": [
    "def shift_trace_grp(self, group, min_x, min_y):\n",
    "\n",
    "        shifted_trace_grp = []\n",
    "\n",
    "        for trace in group:\n",
    "            shifted_trace = [[coord[0] - min_x, coord[1] - min_y] for coord in trace]\n",
    "\n",
    "            shifted_trace_grp.append(shifted_trace)\n",
    "\n",
    "        return shifted_trace_grp"
   ]
  }
 ],
 "metadata": {
  "kernelspec": {
   "display_name": "Python 3",
   "language": "python",
   "name": "python3"
  },
  "language_info": {
   "codemirror_mode": {
    "name": "ipython",
    "version": 3
   },
   "file_extension": ".py",
   "mimetype": "text/x-python",
   "name": "python",
   "nbconvert_exporter": "python",
   "pygments_lexer": "ipython3",
   "version": "3.7.6"
  }
 },
 "nbformat": 4,
 "nbformat_minor": 4
}
